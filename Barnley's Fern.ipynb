{
 "cells": [
  {
   "cell_type": "code",
   "execution_count": 2,
   "metadata": {},
   "outputs": [],
   "source": [
    "import numpy as np\n",
    "import matplotlib.pyplot as plt\n",
    "import matplotlib.cm as cm\n",
    "from random import randint\n",
    "from turtle import *"
   ]
  },
  {
   "cell_type": "code",
   "execution_count": 9,
   "metadata": {},
   "outputs": [],
   "source": [
    "def map_to_pixels(x,y,x_range=[-2.2,2.7],y_range=[0,10],x_req_range=[0,300],y_req_range=[0,300]):\n",
    "    x_span = x_range[1]-x_range[0]\n",
    "    x_req_span = x_req_range[1]-x_req_range[0]\n",
    "    x_scaled = (x-x_range[0])/(x_span)\n",
    "    px = x_req_range[0]+(x_scaled*x_req_span)\n",
    "\n",
    "    y_span = y_range[1] - y_range[0]\n",
    "    y_req_span = y_req_range[1] - y_req_range[0]\n",
    "    y_scaled = (y - y_range[0]) / (y_span)\n",
    "    py = y_req_range[0] + (y_scaled * y_req_span)\n",
    "\n",
    "    return int(px),int(py)"
   ]
  },
  {
   "cell_type": "code",
   "execution_count": 10,
   "metadata": {},
   "outputs": [],
   "source": [
    "def calc(a, m, e):\n",
    "    result = np.zeros((len(a),len(m[0])))\n",
    "    for i in range(len(a)):\n",
    "        for j in range(len(m[0])):\n",
    "            for k in range(len(m)):\n",
    "                result[i][j] += a[i][k]*m[k][j]\n",
    "    result = result+e\n",
    "    #print(result)\n",
    "    return result[0][0], result[1][0]\n"
   ]
  },
  {
   "cell_type": "code",
   "execution_count": 15,
   "metadata": {},
   "outputs": [
    {
     "data": {
      "image/png": "[encoded data removed]",
      "text/plain": [
       "<Figure size 432x288 with 1 Axes>"
      ]
     },
     "metadata": {
      "needs_background": "light"
     },
     "output_type": "display_data"
    }
   ],
   "source": [
    "def fern(width=400,height=400):\n",
    "    img = np.zeros((width,height))\n",
    "    x = []\n",
    "    y = []\n",
    "    count = 0\n",
    "    x.append(0)\n",
    "    y.append(0)\n",
    "    for i in range(1,50000):\n",
    "        p = randint(1,100)\n",
    "        if(p==1):\n",
    "            X,Y = calc(a = [[0,0],[0,0.16]], m = [[x[count]],[y[count]]],e = [[0],[0]])\n",
    "            x.append(X)\n",
    "            y.append(Y)\n",
    "            px,py = map_to_pixels(X,Y)\n",
    "            img[px,py] = 1\n",
    "        if(p>=2 and p<=86):\n",
    "            X,Y = calc(a = [[0.85,0.04],[-0.04,0.85]],m = [[x[count]],[y[count]]],e = [[0],[1.60]])\n",
    "            x.append(X)\n",
    "            y.append(Y)\n",
    "            px, py = map_to_pixels(X,Y)\n",
    "            img[px,py] = 1\n",
    "        if (p >= 87 and p <= 93):\n",
    "            X, Y = calc(a=[[0.20, -0.26], [0.23, 0.22]], m = [[x[count]], [y[count]]], e=[[0], [1.60]])\n",
    "            x.append(X)\n",
    "            y.append(Y)\n",
    "            px, py = map_to_pixels(X, Y)\n",
    "            img[px, py] = 1\n",
    "        if (p >= 94 and p <= 100):\n",
    "            X, Y = calc(a=[[-0.15, 0.28], [0.26, 0.24]], m = [[x[count]], [y[count]]], e=[[0.44], [0.07]])\n",
    "            x.append(X)\n",
    "            y.append(Y)\n",
    "            px, py = map_to_pixels(X, Y)\n",
    "            img[px, py] = 1\n",
    "        count += 1\n",
    "        #print(int((i/50000)*100),\"%\",\" \",\"completed\")\n",
    "    #print(img)\n",
    "    plt.imshow(np.flipud(img.T),cmap= cm.Greens)\n",
    "    plt.axis('off')\n",
    "    plt.show()\n",
    "fern(400,400)"
   ]
  }
 ],
 "metadata": {
  "kernelspec": {
   "display_name": "Python 3",
   "language": "python",
   "name": "python3"
  },
  "language_info": {
   "codemirror_mode": {
    "name": "ipython",
    "version": 3
   },
   "file_extension": ".py",
   "mimetype": "text/x-python",
   "name": "python",
   "nbconvert_exporter": "python",
   "pygments_lexer": "ipython3",
   "version": "3.7.4"
  }
 },
 "nbformat": 4,
 "nbformat_minor": 2
}
