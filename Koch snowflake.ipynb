{
 "cells": [
  {
   "cell_type": "code",
   "execution_count": 5,
   "metadata": {},
   "outputs": [],
   "source": [
    "from turtle import *\n",
    "\n",
    "def koch_flake(length, order):\n",
    "    if(order == 0):\n",
    "        forward(length)\n",
    "        return\n",
    "    koch_flake(length/3,order-1)\n",
    "    left(60)\n",
    "    koch_flake(length/3, order - 1)\n",
    "    right(120)\n",
    "    koch_flake(length/3, order - 1)\n",
    "    left(60)\n",
    "    koch_flake(length/3,order-1)"
   ]
  },
  {
   "cell_type": "code",
   "execution_count": 6,
   "metadata": {},
   "outputs": [],
   "source": [
    "def draw_flake():\n",
    "    speed(0)\n",
    "    up()\n",
    "    backward(200 / 2.0)\n",
    "    down()\n",
    "    col = [\"red\", \"green\", \"blue\", \"yellow\"]\n",
    "    fillcolor(\"black\")\n",
    "    begin_fill()\n",
    "    for i in range(3):\n",
    "        color(col[i])\n",
    "        koch_flake(300.0, 4)\n",
    "        left(-120)\n",
    "    end_fill()\n",
    "    mainloop()"
   ]
  },
  {
   "cell_type": "code",
   "execution_count": null,
   "metadata": {},
   "outputs": [],
   "source": [
    "draw_flake()"
   ]
  },
  {
   "cell_type": "code",
   "execution_count": null,
   "metadata": {},
   "outputs": [],
   "source": []
  }
 ],
 "metadata": {
  "kernelspec": {
   "display_name": "Python 3",
   "language": "python",
   "name": "python3"
  },
  "language_info": {
   "codemirror_mode": {
    "name": "ipython",
    "version": 3
   },
   "file_extension": ".py",
   "mimetype": "text/x-python",
   "name": "python",
   "nbconvert_exporter": "python",
   "pygments_lexer": "ipython3",
   "version": "3.8.3"
  }
 },
 "nbformat": 4,
 "nbformat_minor": 4
}
