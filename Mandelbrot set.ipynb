{
 "cells": [
  {
   "cell_type": "code",
   "execution_count": 8,
   "metadata": {},
   "outputs": [],
   "source": [
    "import numpy as np\n",
    "import matplotlib.pyplot as plt"
   ]
  },
  {
   "cell_type": "code",
   "execution_count": 9,
   "metadata": {},
   "outputs": [],
   "source": [
    "def mandelbrot(n_rows, n_columns, iterations):\n",
    "    x_cor = np.linspace(-2,1,n_rows)\n",
    "    y_cor = np.linspace(-2,1,n_columns)\n",
    "    x_len = len(x_cor)\n",
    "    y_len = len(y_cor)\n",
    "    output = np.zeros((x_len,y_len))\n",
    "    for i in range(x_len):\n",
    "        for j in range(y_len):\n",
    "            c = complex(x_cor[i],y_cor[j])\n",
    "            z = complex(0, 0)\n",
    "            count = 0\n",
    "            for k in range(iterations):\n",
    "                z = (z * z) + c\n",
    "                count = count + 1\n",
    "                if (abs(z) > 4):\n",
    "                    break\n",
    "            output[i,j] = count\n",
    "            #print((i/x_len)*100,\"% completed\")\n",
    "    print(output)\n",
    "    plt.imshow(output.T, cmap = \"hot\")\n",
    "    plt.axis(\"off\")\n",
    "    plt.show()dd"
   ]
  },
  {
   "cell_type": "code",
   "execution_count": null,
   "metadata": {},
   "outputs": [],
   "source": [
    "mandelbrot(1000,1000,150)"
   ]
  }
 ],
 "metadata": {
  "kernelspec": {
   "display_name": "Python 3",
   "language": "python",
   "name": "python3"
  },
  "language_info": {
   "codemirror_mode": {
    "name": "ipython",
    "version": 3
   },
   "file_extension": ".py",
   "mimetype": "text/x-python",
   "name": "python",
   "nbconvert_exporter": "python",
   "pygments_lexer": "ipython3",
   "version": "3.7.4"
  }
 },
 "nbformat": 4,
 "nbformat_minor": 2
}
